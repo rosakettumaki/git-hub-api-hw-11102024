{
 "cells": [
  {
   "cell_type": "code",
   "execution_count": 76,
   "id": "203b35f4-2d3b-4f39-8b20-d5d85f118ec0",
   "metadata": {
    "scrolled": true
   },
   "outputs": [
    {
     "name": "stdout",
     "output_type": "stream",
     "text": [
      "01-Animals.ipynb\n",
      "01-pandas basics.ipynb\n",
      "02-Billionaires.ipynb\n",
      "\u001b[34m06-classwork\u001b[m\u001b[m\n",
      "\u001b[34m06-homework\u001b[m\u001b[m\n",
      "\u001b[34m20204_data_columbia\u001b[m\u001b[m\n",
      "\u001b[34mApplications\u001b[m\u001b[m\n",
      "\u001b[34mDesktop\u001b[m\u001b[m\n",
      "\u001b[34mDocuments\u001b[m\u001b[m\n",
      "\u001b[34mDownloads\u001b[m\u001b[m\n",
      "HW_Scraping_Warm-Up_11112024.ipynb\n",
      "HW_courtfiles_111124.ipynb\n",
      "\u001b[34mInsta_reels_NYC_perus_1.fcpbundle\u001b[m\u001b[m\n",
      "\u001b[34mLibrary\u001b[m\u001b[m\n",
      "\u001b[34mMovies\u001b[m\u001b[m\n",
      "\u001b[34mMusic\u001b[m\u001b[m\n",
      "\u001b[34mPictures\u001b[m\u001b[m\n",
      "\u001b[34mPublic\u001b[m\u001b[m\n",
      "Scraping_The_Guardian_111124.ipynb\n",
      "Untitled.ipynb\n",
      "Untitled1.ipynb\n",
      "Untitled2.ipynb\n",
      "Untitled3.ipynb\n",
      "What is the PATH on the command line, and how do I change it？ [MdMnPrUxm1w].mp4\n",
      "animals.csv\n",
      "billionaires.json\n",
      "continent_facts.csv\n",
      "countries.csv\n",
      "\u001b[34mencoding\u001b[m\u001b[m\n",
      "epl.csv\n",
      "panda_start_11112024.ipynb\n",
      "pandas_hw_5_1_111224.ipynb\n",
      "richpeople.xlsx\n",
      "scraping_movies_exercise.ipynb\n",
      "spotify-hw-10112024.ipynb\n"
     ]
    }
   ],
   "source": [
    "!ls"
   ]
  },
  {
   "cell_type": "code",
   "execution_count": 77,
   "id": "58409dcc-1213-47cb-98ea-186fba4472c4",
   "metadata": {},
   "outputs": [
    {
     "name": "stdout",
     "output_type": "stream",
     "text": [
      "\n",
      "\u001b[1m[\u001b[0m\u001b[34;49mnotice\u001b[0m\u001b[1;39;49m]\u001b[0m\u001b[39;49m A new release of pip is available: \u001b[0m\u001b[31;49m24.2\u001b[0m\u001b[39;49m -> \u001b[0m\u001b[32;49m24.3.1\u001b[0m\n",
      "\u001b[1m[\u001b[0m\u001b[34;49mnotice\u001b[0m\u001b[1;39;49m]\u001b[0m\u001b[39;49m To update, run: \u001b[0m\u001b[32;49mpip install --upgrade pip\u001b[0m\n"
     ]
    }
   ],
   "source": [
    "!pip install --quiet pandas "
   ]
  },
  {
   "cell_type": "code",
   "execution_count": 78,
   "id": "c865bf63-a554-42c6-8fe3-8efdce7565cb",
   "metadata": {},
   "outputs": [
    {
     "data": {
      "text/html": [
       "<div>\n",
       "<style scoped>\n",
       "    .dataframe tbody tr th:only-of-type {\n",
       "        vertical-align: middle;\n",
       "    }\n",
       "\n",
       "    .dataframe tbody tr th {\n",
       "        vertical-align: top;\n",
       "    }\n",
       "\n",
       "    .dataframe thead th {\n",
       "        text-align: right;\n",
       "    }\n",
       "</style>\n",
       "<table border=\"1\" class=\"dataframe\">\n",
       "  <thead>\n",
       "    <tr style=\"text-align: right;\">\n",
       "      <th></th>\n",
       "      <th>animal</th>\n",
       "      <th>name</th>\n",
       "      <th>length</th>\n",
       "    </tr>\n",
       "  </thead>\n",
       "  <tbody>\n",
       "    <tr>\n",
       "      <th>2</th>\n",
       "      <td>dog</td>\n",
       "      <td>Egglesburg</td>\n",
       "      <td>65</td>\n",
       "    </tr>\n",
       "    <tr>\n",
       "      <th>3</th>\n",
       "      <td>dog</td>\n",
       "      <td>Devon</td>\n",
       "      <td>50</td>\n",
       "    </tr>\n",
       "    <tr>\n",
       "      <th>4</th>\n",
       "      <td>cat</td>\n",
       "      <td>Charlie</td>\n",
       "      <td>32</td>\n",
       "    </tr>\n",
       "    <tr>\n",
       "      <th>5</th>\n",
       "      <td>dog</td>\n",
       "      <td>Fontaine</td>\n",
       "      <td>35</td>\n",
       "    </tr>\n",
       "    <tr>\n",
       "      <th>6</th>\n",
       "      <td>cat</td>\n",
       "      <td>Xypher</td>\n",
       "      <td>10</td>\n",
       "    </tr>\n",
       "  </tbody>\n",
       "</table>\n",
       "</div>"
      ],
      "text/plain": [
       "  animal        name  length\n",
       "2    dog  Egglesburg      65\n",
       "3    dog       Devon      50\n",
       "4    cat     Charlie      32\n",
       "5    dog    Fontaine      35\n",
       "6    cat      Xypher      10"
      ]
     },
     "execution_count": 78,
     "metadata": {},
     "output_type": "execute_result"
    }
   ],
   "source": [
    "import pandas as pd\n",
    "\n",
    "df = pd.pandas.read_csv(\"animals.csv\")\n",
    "df.tail()"
   ]
  },
  {
   "cell_type": "code",
   "execution_count": 79,
   "id": "205716d0-532a-4623-bec8-a8ab4fa9eb31",
   "metadata": {},
   "outputs": [
    {
     "data": {
      "text/plain": [
       "<bound method NDFrame.head of   animal        name  length\n",
       "0    cat        Anne      35\n",
       "1    cat         Bob      45\n",
       "2    dog  Egglesburg      65\n",
       "3    dog       Devon      50\n",
       "4    cat     Charlie      32\n",
       "5    dog    Fontaine      35\n",
       "6    cat      Xypher      10>"
      ]
     },
     "execution_count": 79,
     "metadata": {},
     "output_type": "execute_result"
    }
   ],
   "source": [
    "df.head"
   ]
  },
  {
   "cell_type": "code",
   "execution_count": 80,
   "id": "962ac19e-a3be-495c-a23b-8a27982c25e8",
   "metadata": {},
   "outputs": [
    {
     "data": {
      "text/plain": [
       "<bound method NDFrame.tail of   animal        name  length\n",
       "0    cat        Anne      35\n",
       "1    cat         Bob      45\n",
       "2    dog  Egglesburg      65\n",
       "3    dog       Devon      50\n",
       "4    cat     Charlie      32\n",
       "5    dog    Fontaine      35\n",
       "6    cat      Xypher      10>"
      ]
     },
     "execution_count": 80,
     "metadata": {},
     "output_type": "execute_result"
    }
   ],
   "source": [
    "df.tail"
   ]
  },
  {
   "cell_type": "code",
   "execution_count": 81,
   "id": "e9e4b8ce-be15-4c6c-825c-c4ee9b8f43b9",
   "metadata": {},
   "outputs": [
    {
     "data": {
      "text/plain": [
       "<bound method DataFrame.info of   animal        name  length\n",
       "0    cat        Anne      35\n",
       "1    cat         Bob      45\n",
       "2    dog  Egglesburg      65\n",
       "3    dog       Devon      50\n",
       "4    cat     Charlie      32\n",
       "5    dog    Fontaine      35\n",
       "6    cat      Xypher      10>"
      ]
     },
     "execution_count": 81,
     "metadata": {},
     "output_type": "execute_result"
    }
   ],
   "source": [
    "df.info"
   ]
  },
  {
   "cell_type": "code",
   "execution_count": 82,
   "id": "136d8a28-6620-482b-87bc-bdbac835df53",
   "metadata": {},
   "outputs": [
    {
     "data": {
      "text/plain": [
       "animal    object\n",
       "name      object\n",
       "length     int64\n",
       "dtype: object"
      ]
     },
     "execution_count": 82,
     "metadata": {},
     "output_type": "execute_result"
    }
   ],
   "source": [
    "df.dtypes"
   ]
  },
  {
   "cell_type": "code",
   "execution_count": 83,
   "id": "cb7b3857-020f-4fbb-813f-7bff6135eab5",
   "metadata": {},
   "outputs": [
    {
     "data": {
      "text/html": [
       "<div>\n",
       "<style scoped>\n",
       "    .dataframe tbody tr th:only-of-type {\n",
       "        vertical-align: middle;\n",
       "    }\n",
       "\n",
       "    .dataframe tbody tr th {\n",
       "        vertical-align: top;\n",
       "    }\n",
       "\n",
       "    .dataframe thead th {\n",
       "        text-align: right;\n",
       "    }\n",
       "</style>\n",
       "<table border=\"1\" class=\"dataframe\">\n",
       "  <thead>\n",
       "    <tr style=\"text-align: right;\">\n",
       "      <th></th>\n",
       "      <th>animal</th>\n",
       "      <th>name</th>\n",
       "      <th>length</th>\n",
       "    </tr>\n",
       "  </thead>\n",
       "  <tbody>\n",
       "    <tr>\n",
       "      <th>0</th>\n",
       "      <td>cat</td>\n",
       "      <td>Anne</td>\n",
       "      <td>35</td>\n",
       "    </tr>\n",
       "    <tr>\n",
       "      <th>1</th>\n",
       "      <td>cat</td>\n",
       "      <td>Bob</td>\n",
       "      <td>45</td>\n",
       "    </tr>\n",
       "    <tr>\n",
       "      <th>2</th>\n",
       "      <td>dog</td>\n",
       "      <td>Egglesburg</td>\n",
       "      <td>65</td>\n",
       "    </tr>\n",
       "  </tbody>\n",
       "</table>\n",
       "</div>"
      ],
      "text/plain": [
       "  animal        name  length\n",
       "0    cat        Anne      35\n",
       "1    cat         Bob      45\n",
       "2    dog  Egglesburg      65"
      ]
     },
     "execution_count": 83,
     "metadata": {},
     "output_type": "execute_result"
    }
   ],
   "source": [
    "## 3) Display the first 3 animals\n",
    "\n",
    "df.head(3)"
   ]
  },
  {
   "cell_type": "code",
   "execution_count": 84,
   "id": "4828c28f-ed06-49e2-a257-e0654c06f73b",
   "metadata": {},
   "outputs": [
    {
     "data": {
      "text/html": [
       "<div>\n",
       "<style scoped>\n",
       "    .dataframe tbody tr th:only-of-type {\n",
       "        vertical-align: middle;\n",
       "    }\n",
       "\n",
       "    .dataframe tbody tr th {\n",
       "        vertical-align: top;\n",
       "    }\n",
       "\n",
       "    .dataframe thead th {\n",
       "        text-align: right;\n",
       "    }\n",
       "</style>\n",
       "<table border=\"1\" class=\"dataframe\">\n",
       "  <thead>\n",
       "    <tr style=\"text-align: right;\">\n",
       "      <th></th>\n",
       "      <th>animal</th>\n",
       "      <th>name</th>\n",
       "      <th>length</th>\n",
       "    </tr>\n",
       "  </thead>\n",
       "  <tbody>\n",
       "    <tr>\n",
       "      <th>1</th>\n",
       "      <td>cat</td>\n",
       "      <td>Bob</td>\n",
       "      <td>45</td>\n",
       "    </tr>\n",
       "    <tr>\n",
       "      <th>3</th>\n",
       "      <td>dog</td>\n",
       "      <td>Devon</td>\n",
       "      <td>50</td>\n",
       "    </tr>\n",
       "    <tr>\n",
       "      <th>2</th>\n",
       "      <td>dog</td>\n",
       "      <td>Egglesburg</td>\n",
       "      <td>65</td>\n",
       "    </tr>\n",
       "  </tbody>\n",
       "</table>\n",
       "</div>"
      ],
      "text/plain": [
       "  animal        name  length\n",
       "1    cat         Bob      45\n",
       "3    dog       Devon      50\n",
       "2    dog  Egglesburg      65"
      ]
     },
     "execution_count": 84,
     "metadata": {},
     "output_type": "execute_result"
    }
   ],
   "source": [
    "## 4) Sort the animals to show me the 3 longest animals\n",
    "df.sort_values(by='length').tail(3)"
   ]
  },
  {
   "cell_type": "code",
   "execution_count": 85,
   "id": "3b6fbfef-6806-43dd-8fe4-be7925388c20",
   "metadata": {},
   "outputs": [
    {
     "data": {
      "text/plain": [
       "np.float64(38.86)"
      ]
     },
     "execution_count": 85,
     "metadata": {},
     "output_type": "execute_result"
    }
   ],
   "source": [
    "## 5) Get the mean and standard deviation of animal lengths\n",
    "\n",
    "df['length'].mean().round(2)"
   ]
  },
  {
   "cell_type": "code",
   "execution_count": 86,
   "id": "4f5f5239-eff4-4eca-9987-a9d17235edc8",
   "metadata": {},
   "outputs": [
    {
     "data": {
      "text/plain": [
       "animal\n",
       "cat    4\n",
       "dog    3\n",
       "Name: count, dtype: int64"
      ]
     },
     "execution_count": 86,
     "metadata": {},
     "output_type": "execute_result"
    }
   ],
   "source": [
    "## 6) How many cats do we have and how many dogs?\n",
    "df['animal'].value_counts()"
   ]
  },
  {
   "cell_type": "code",
   "execution_count": 87,
   "id": "9485d95b-8ab6-43e9-858a-ded916bd34a2",
   "metadata": {},
   "outputs": [
    {
     "data": {
      "text/plain": [
       "animal    object\n",
       "name      object\n",
       "length     int64\n",
       "dtype: object"
      ]
     },
     "execution_count": 87,
     "metadata": {},
     "output_type": "execute_result"
    }
   ],
   "source": [
    "## 7) Only display the dogs\n",
    "\n",
    "#DISPLAY LIST\n",
    "#> **TIP:** It's probably easiest to make it display the list of `True`/`False` first, then wrap the `df[]` around it.\n",
    "\n",
    "df.dtypes\n",
    "\n",
    "#COUNTING"
   ]
  },
  {
   "cell_type": "code",
   "execution_count": 88,
   "id": "54224ee7-0d5b-42f2-8b43-3ebbe332b882",
   "metadata": {},
   "outputs": [
    {
     "name": "stdout",
     "output_type": "stream",
     "text": [
      "<class 'pandas.core.frame.DataFrame'>\n",
      "RangeIndex: 7 entries, 0 to 6\n",
      "Data columns (total 3 columns):\n",
      " #   Column  Non-Null Count  Dtype \n",
      "---  ------  --------------  ----- \n",
      " 0   animal  7 non-null      object\n",
      " 1   name    7 non-null      object\n",
      " 2   length  7 non-null      int64 \n",
      "dtypes: int64(1), object(2)\n",
      "memory usage: 300.0+ bytes\n"
     ]
    }
   ],
   "source": [
    "df.info() "
   ]
  },
  {
   "cell_type": "code",
   "execution_count": 89,
   "id": "dbe34d64-02cc-4687-b5a0-21e4925c2830",
   "metadata": {},
   "outputs": [
    {
     "data": {
      "text/html": [
       "<div>\n",
       "<style scoped>\n",
       "    .dataframe tbody tr th:only-of-type {\n",
       "        vertical-align: middle;\n",
       "    }\n",
       "\n",
       "    .dataframe tbody tr th {\n",
       "        vertical-align: top;\n",
       "    }\n",
       "\n",
       "    .dataframe thead th {\n",
       "        text-align: right;\n",
       "    }\n",
       "</style>\n",
       "<table border=\"1\" class=\"dataframe\">\n",
       "  <thead>\n",
       "    <tr style=\"text-align: right;\">\n",
       "      <th></th>\n",
       "      <th>animal</th>\n",
       "      <th>name</th>\n",
       "      <th>length</th>\n",
       "    </tr>\n",
       "  </thead>\n",
       "  <tbody>\n",
       "    <tr>\n",
       "      <th>2</th>\n",
       "      <td>dog</td>\n",
       "      <td>Egglesburg</td>\n",
       "      <td>65</td>\n",
       "    </tr>\n",
       "    <tr>\n",
       "      <th>3</th>\n",
       "      <td>dog</td>\n",
       "      <td>Devon</td>\n",
       "      <td>50</td>\n",
       "    </tr>\n",
       "    <tr>\n",
       "      <th>5</th>\n",
       "      <td>dog</td>\n",
       "      <td>Fontaine</td>\n",
       "      <td>35</td>\n",
       "    </tr>\n",
       "  </tbody>\n",
       "</table>\n",
       "</div>"
      ],
      "text/plain": [
       "  animal        name  length\n",
       "2    dog  Egglesburg      65\n",
       "3    dog       Devon      50\n",
       "5    dog    Fontaine      35"
      ]
     },
     "execution_count": 89,
     "metadata": {},
     "output_type": "execute_result"
    }
   ],
   "source": [
    "#int64 is an integer\n",
    "#float64 is a float/decimal\n",
    "#object is anything else. This normally means a string.\n",
    "\n",
    "df[df['animal'] == 'dog']"
   ]
  },
  {
   "cell_type": "code",
   "execution_count": 90,
   "id": "bef504c6-e535-47f2-89e0-e41931ddf665",
   "metadata": {},
   "outputs": [],
   "source": [
    "## 8) Only display the animals that are longer than 40cm\n",
    "\n",
    "#df = pd.DataFrame({'length':range(40, 100)})\n",
    "#df = pd.DataFrame({'length'.np.random.randint(size>40)})\n",
    "#df.query(['length'] > 40)\n",
    "\n",
    "#df[df[pd.DataFrame({'length': range(40,65)})]]\n"
   ]
  },
  {
   "cell_type": "code",
   "execution_count": 93,
   "id": "b8f0bc0b-5c76-4cf4-a1bf-bbfbeba1f946",
   "metadata": {},
   "outputs": [
    {
     "name": "stdout",
     "output_type": "stream",
     "text": [
      "  animal        name  length\n",
      "1    cat         Bob      45\n",
      "2    dog  Egglesburg      65\n",
      "3    dog       Devon      50\n"
     ]
    }
   ],
   "source": [
    "df_lenght = df[df['length'] > 40]\n",
    "print(df_lenght)"
   ]
  },
  {
   "cell_type": "code",
   "execution_count": 96,
   "id": "bb00dc86-774e-4b2e-886d-4ec3a7f2f951",
   "metadata": {},
   "outputs": [
    {
     "name": "stdout",
     "output_type": "stream",
     "text": [
      "  animal        name  length\n",
      "1    cat         Bob      45\n",
      "2    dog  Egglesburg      65\n",
      "3    dog       Devon      50\n"
     ]
    }
   ],
   "source": [
    "df_lenght_2 = df.query('length > 40')\n",
    "print(df_lenght_2)"
   ]
  },
  {
   "cell_type": "code",
   "execution_count": 97,
   "id": "ed3dce28-850a-4846-8685-8c183ef085f1",
   "metadata": {},
   "outputs": [],
   "source": [
    "## 9) `length` is the animal's length in centimeters. Create a new column called `inches` that is the length in inches."
   ]
  },
  {
   "cell_type": "code",
   "execution_count": 98,
   "id": "560a553a-5a86-4e6d-9a18-944b71b33465",
   "metadata": {},
   "outputs": [
    {
     "data": {
      "text/html": [
       "<div>\n",
       "<style scoped>\n",
       "    .dataframe tbody tr th:only-of-type {\n",
       "        vertical-align: middle;\n",
       "    }\n",
       "\n",
       "    .dataframe tbody tr th {\n",
       "        vertical-align: top;\n",
       "    }\n",
       "\n",
       "    .dataframe thead th {\n",
       "        text-align: right;\n",
       "    }\n",
       "</style>\n",
       "<table border=\"1\" class=\"dataframe\">\n",
       "  <thead>\n",
       "    <tr style=\"text-align: right;\">\n",
       "      <th></th>\n",
       "      <th>animal</th>\n",
       "      <th>name</th>\n",
       "      <th>length</th>\n",
       "      <th>inches</th>\n",
       "    </tr>\n",
       "  </thead>\n",
       "  <tbody>\n",
       "    <tr>\n",
       "      <th>0</th>\n",
       "      <td>cat</td>\n",
       "      <td>Anne</td>\n",
       "      <td>35</td>\n",
       "      <td>10.5</td>\n",
       "    </tr>\n",
       "    <tr>\n",
       "      <th>1</th>\n",
       "      <td>cat</td>\n",
       "      <td>Bob</td>\n",
       "      <td>45</td>\n",
       "      <td>13.5</td>\n",
       "    </tr>\n",
       "    <tr>\n",
       "      <th>2</th>\n",
       "      <td>dog</td>\n",
       "      <td>Egglesburg</td>\n",
       "      <td>65</td>\n",
       "      <td>19.5</td>\n",
       "    </tr>\n",
       "    <tr>\n",
       "      <th>3</th>\n",
       "      <td>dog</td>\n",
       "      <td>Devon</td>\n",
       "      <td>50</td>\n",
       "      <td>15.0</td>\n",
       "    </tr>\n",
       "    <tr>\n",
       "      <th>4</th>\n",
       "      <td>cat</td>\n",
       "      <td>Charlie</td>\n",
       "      <td>32</td>\n",
       "      <td>9.6</td>\n",
       "    </tr>\n",
       "  </tbody>\n",
       "</table>\n",
       "</div>"
      ],
      "text/plain": [
       "  animal        name  length  inches\n",
       "0    cat        Anne      35    10.5\n",
       "1    cat         Bob      45    13.5\n",
       "2    dog  Egglesburg      65    19.5\n",
       "3    dog       Devon      50    15.0\n",
       "4    cat     Charlie      32     9.6"
      ]
     },
     "execution_count": 98,
     "metadata": {},
     "output_type": "execute_result"
    }
   ],
   "source": [
    "df['inches'] = df['length'] * [0.3]\n",
    "df.head()"
   ]
  },
  {
   "cell_type": "code",
   "execution_count": 102,
   "id": "7fd1977b-9c03-4b40-8edc-2955f6a4ed8a",
   "metadata": {},
   "outputs": [
    {
     "name": "stdout",
     "output_type": "stream",
     "text": [
      "  animal     name  length  inches\n",
      "0    cat     Anne      35    10.5\n",
      "1    cat      Bob      45    13.5\n",
      "4    cat  Charlie      32     9.6\n",
      "6    cat   Xypher      10     3.0\n",
      "  animal        name  length  inches\n",
      "2    dog  Egglesburg      65    19.5\n",
      "3    dog       Devon      50    15.0\n",
      "5    dog    Fontaine      35    10.5\n"
     ]
    }
   ],
   "source": [
    "## 10) Save just the cats to a separate variable called `cats`. \n",
    "## Save just the dogs to a separate variable called `dogs`.\n",
    "\n",
    "cats= df[df['animal'] == 'cat'].head()\n",
    "\n",
    "dogs=df[df['animal'] == 'dog'].head()\n",
    "\n",
    "print(cats)\n",
    "print(dogs)"
   ]
  },
  {
   "cell_type": "code",
   "execution_count": 104,
   "id": "3bd93f55-1860-480b-87cb-a096a7945296",
   "metadata": {},
   "outputs": [
    {
     "name": "stdout",
     "output_type": "stream",
     "text": [
      "  animal        name  length  inches\n",
      "1    cat         Bob      45    13.5\n",
      "2    dog  Egglesburg      65    19.5\n",
      "3    dog       Devon      50    15.0\n"
     ]
    }
   ],
   "source": [
    "## 11) Display all of the animals that are cats and above 12 inches long.\n",
    "\n",
    "df_inches = df.query('inches > 12')\n",
    "print(df_inches)"
   ]
  },
  {
   "cell_type": "code",
   "execution_count": 106,
   "id": "742aa04e-6eb4-449e-91a7-90dfaed80ca2",
   "metadata": {},
   "outputs": [
    {
     "name": "stdout",
     "output_type": "stream",
     "text": [
      "30.5\n",
      "50.0\n"
     ]
    }
   ],
   "source": [
    "## 12) What's the mean length of a cat? What's the mean length of a dog?\n",
    "\n",
    "cats_mean= df[df['animal'] == 'cat']['length'].mean()\n",
    "print(cats_mean)\n",
    "\n",
    "dogs_mean= df[df['animal'] == 'dog']['length'].mean()\n",
    "print(dogs_mean)\n"
   ]
  },
  {
   "cell_type": "code",
   "execution_count": 110,
   "id": "02ec405a-5a46-4acc-af57-36ac1f41760f",
   "metadata": {},
   "outputs": [
    {
     "data": {
      "text/html": [
       "<div>\n",
       "<style scoped>\n",
       "    .dataframe tbody tr th:only-of-type {\n",
       "        vertical-align: middle;\n",
       "    }\n",
       "\n",
       "    .dataframe tbody tr th {\n",
       "        vertical-align: top;\n",
       "    }\n",
       "\n",
       "    .dataframe thead th {\n",
       "        text-align: right;\n",
       "    }\n",
       "</style>\n",
       "<table border=\"1\" class=\"dataframe\">\n",
       "  <thead>\n",
       "    <tr style=\"text-align: right;\">\n",
       "      <th></th>\n",
       "      <th>length</th>\n",
       "      <th>inches</th>\n",
       "    </tr>\n",
       "    <tr>\n",
       "      <th>animal</th>\n",
       "      <th></th>\n",
       "      <th></th>\n",
       "    </tr>\n",
       "  </thead>\n",
       "  <tbody>\n",
       "    <tr>\n",
       "      <th>cat</th>\n",
       "      <td>30.5</td>\n",
       "      <td>9.15</td>\n",
       "    </tr>\n",
       "    <tr>\n",
       "      <th>dog</th>\n",
       "      <td>50.0</td>\n",
       "      <td>15.00</td>\n",
       "    </tr>\n",
       "  </tbody>\n",
       "</table>\n",
       "</div>"
      ],
      "text/plain": [
       "        length  inches\n",
       "animal                \n",
       "cat       30.5    9.15\n",
       "dog       50.0   15.00"
      ]
     },
     "execution_count": 110,
     "metadata": {},
     "output_type": "execute_result"
    }
   ],
   "source": [
    "## 13) If you didn't already, use `groupby` to do #12 all at once\n",
    "\n",
    "df.groupby('animal').mean('lenght')"
   ]
  },
  {
   "cell_type": "code",
   "execution_count": 133,
   "id": "d63032f8-f3d1-4773-89af-9f278c15b3f5",
   "metadata": {},
   "outputs": [
    {
     "data": {
      "text/plain": [
       "<Axes: >"
      ]
     },
     "execution_count": 133,
     "metadata": {},
     "output_type": "execute_result"
    },
    {
     "data": {
      "image/png": "[encoded data removed]",
      "text/plain": [
       "<Figure size 640x480 with 1 Axes>"
      ]
     },
     "metadata": {},
     "output_type": "display_data"
    }
   ],
   "source": [
    "## 14) Make a histogram of the length of dogs.\n",
    "\n",
    "#dogs_leght = df[df['animal'] == 'dog']['length']\n",
    "#print(dogs_leght)\n",
    "\n",
    "#df.hist(['animal'] == ['dog']['length'])\n",
    "\n",
    "dog_lengths = df[df['animal'] == 'dog']['length']\n",
    "dog_lengths.hist()\n"
   ]
  },
  {
   "cell_type": "code",
   "execution_count": 137,
   "id": "c119d4f5-5253-4df8-a8d6-530bd30ff4d9",
   "metadata": {
    "scrolled": true
   },
   "outputs": [
    {
     "data": {
      "text/plain": [
       "<Axes: title={'center': 'Animals lenght'}, ylabel='name'>"
      ]
     },
     "execution_count": 137,
     "metadata": {},
     "output_type": "execute_result"
    },
    {
     "data": {
      "image/png": "[encoded data removed]",
      "text/plain": [
       "<Figure size 1600x200 with 1 Axes>"
      ]
     },
     "metadata": {},
     "output_type": "display_data"
    }
   ],
   "source": [
    "## 15) Make a horizontal bar graph of the length of the animals, with the animal's name as the label\n",
    "##source of info: https://www.geeksforgeeks.org/creating-horizontal-bar-charts-using-pandas/\\\n",
    "\n",
    "df.plot.barh(x='name', y='length', \n",
    "             title='Animals lenght', color='pink',figsize=(16,2)) "
   ]
  },
  {
   "cell_type": "code",
   "execution_count": 151,
   "id": "cd44204b-6b76-4310-a3b5-dfa73fb33e12",
   "metadata": {},
   "outputs": [
    {
     "name": "stdout",
     "output_type": "stream",
     "text": [
      "  animal     name  length  inches\n",
      "6    cat   Xypher      10     3.0\n",
      "4    cat  Charlie      32     9.6\n",
      "0    cat     Anne      35    10.5\n",
      "1    cat      Bob      45    13.5\n"
     ]
    },
    {
     "data": {
      "text/plain": [
       "<Axes: title={'center': 'Animals lenght'}, ylabel='name'>"
      ]
     },
     "execution_count": 151,
     "metadata": {},
     "output_type": "execute_result"
    },
    {
     "data": {
      "image/png": "[encoded data removed]",
      "text/plain": [
       "<Figure size 1600x200 with 1 Axes>"
      ]
     },
     "metadata": {},
     "output_type": "display_data"
    }
   ],
   "source": [
    "## 16) Make a sorted horizontal bar graph of the cats, with the larger cats on top\n",
    "\n",
    "cats = df[df['animal'] == 'cat']\n",
    "cats_by_length = cats.sort_values(by='length', ascending=True)\n",
    "print(cats_by_length)\n",
    "\n",
    "\n",
    "\n",
    "cats_by_length.plot.barh(x='name', y='length', \n",
    "             title='Animals lenght', color='pink',figsize=(16,2)) "
   ]
  },
  {
   "cell_type": "code",
   "execution_count": 152,
   "id": "5e0ace50-eb81-4ea6-b57a-6b7ed40adec1",
   "metadata": {},
   "outputs": [],
   "source": [
    "#run the following code, then plot the number of dogs vs. the number of cats\n",
    "\n",
    "import matplotlib.pyplot as plt\n",
    "plt.style.use('fivethirtyeight')"
   ]
  },
  {
   "cell_type": "code",
   "execution_count": null,
   "id": "0dd8b0e1-2379-4ace-9d52-ffa44a6b3bc4",
   "metadata": {},
   "outputs": [],
   "source": []
  }
 ],
 "metadata": {
  "kernelspec": {
   "display_name": "Python 3 (ipykernel)",
   "language": "python",
   "name": "python3"
  },
  "language_info": {
   "codemirror_mode": {
    "name": "ipython",
    "version": 3
   },
   "file_extension": ".py",
   "mimetype": "text/x-python",
   "name": "python",
   "nbconvert_exporter": "python",
   "pygments_lexer": "ipython3",
   "version": "3.12.7"
  }
 },
 "nbformat": 4,
 "nbformat_minor": 5
}
