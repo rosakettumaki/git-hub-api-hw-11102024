{
 "cells": [
  {
   "cell_type": "code",
   "execution_count": 1,
   "id": "73b74e33-3097-475d-b05b-c79a00f6a030",
   "metadata": {},
   "outputs": [],
   "source": [
    "#What drove your decision? I chose Open-Meteo because it doesn't require API keys and I assumed this migth make things easier. \n",
    "#Somehow I also liked its open and not too fancy vibes.s\n"
   ]
  },
  {
   "cell_type": "code",
   "execution_count": null,
   "id": "1f545cf8-8f4a-4270-ab1e-9fafae93a768",
   "metadata": {},
   "outputs": [],
   "source": [
    "#API Documentation for Open-Meteo: https://open-meteo.com/en/docs#latitude=60.9827&longitude=25.6615&past_days=1"
   ]
  },
  {
   "cell_type": "code",
   "execution_count": 20,
   "id": "911633d6-06c3-4dc7-be45-b7f15e6845f9",
   "metadata": {},
   "outputs": [
    {
     "data": {
      "text/plain": [
       "{'latitude': 60.893585,\n",
       " 'longitude': 26.338974,\n",
       " 'generationtime_ms': 0.02491474151611328,\n",
       " 'utc_offset_seconds': 7200,\n",
       " 'timezone': 'Europe/Helsinki',\n",
       " 'timezone_abbreviation': 'EET',\n",
       " 'elevation': 77.0,\n",
       " 'current_units': {'time': 'iso8601',\n",
       "  'interval': 'seconds',\n",
       "  'temperature_2m': '°C',\n",
       "  'apparent_temperature': '°C'},\n",
       " 'current': {'time': '2024-11-09T23:45',\n",
       "  'interval': 900,\n",
       "  'temperature_2m': 4.2,\n",
       "  'apparent_temperature': 2.0}}"
      ]
     },
     "execution_count": 20,
     "metadata": {},
     "output_type": "execute_result"
    }
   ],
   "source": [
    "#Make a request for the current weather where you are born: https://api.open-meteo.com/v1/forecast?latitude=60.8949&longitude=26.3387&hourly=temperature_2m&past_days=1\n",
    "\n",
    "import requests\n",
    "\n",
    "response = requests.get(\"https://api.open-meteo.com/v1/forecast?latitude=60.8949&longitude=26.3387&current=temperature_2m,apparent_temperature&timezone=auto\")\n",
    "data = response.json()\n",
    "data\n"
   ]
  },
  {
   "cell_type": "code",
   "execution_count": 10,
   "id": "c536f31a-32c8-4e96-a2eb-aa4e39c35546",
   "metadata": {},
   "outputs": [
    {
     "data": {
      "text/plain": [
       "'Europe/Helsinki'"
      ]
     },
     "execution_count": 10,
     "metadata": {},
     "output_type": "execute_result"
    }
   ],
   "source": [
    "#Print out the country this location is in.\n",
    "data['timezone']"
   ]
  },
  {
   "cell_type": "code",
   "execution_count": null,
   "id": "82f79fb9-1c3f-42a9-b882-e1634ddd0dc0",
   "metadata": {},
   "outputs": [],
   "source": [
    "# Yes, I know, this is not quite what was asked, but since I don't understand how to get the country data to be part of this, this is the best I can get. \n"
   ]
  },
  {
   "cell_type": "code",
   "execution_count": 31,
   "id": "e726e706-15e9-45d5-bc26-6257454e9064",
   "metadata": {},
   "outputs": [
    {
     "name": "stdout",
     "output_type": "stream",
     "text": [
      "It feels 2.2 degrees colder\n"
     ]
    }
   ],
   "source": [
    "#Print out the difference between the current temperature and how warm it feels.  \n",
    "\n",
    "temp = data['current']\n",
    "difference = temp['temperature_2m'] - temp['apparent_temperature']\n",
    "print(\"It feels\", difference, \"degrees colder\")\n"
   ]
  },
  {
   "cell_type": "code",
   "execution_count": 33,
   "id": "2eb4ffc2-702d-4698-8eeb-0ba34163fc48",
   "metadata": {},
   "outputs": [
    {
     "name": "stdout",
     "output_type": "stream",
     "text": [
      "Current temperature at Heathrow International Airport is 6.9 celscius.\n"
     ]
    }
   ],
   "source": [
    "#What's the current temperature at Heathrow International Airport?\n",
    "\n",
    "\n",
    "import requests\n",
    "\n",
    "response = requests.get(\"https://api.open-meteo.com/v1/forecast?latitude=51.4729&longitude=-0.4506&current=temperature_2m,apparent_temperature&timezone=auto\")\n",
    "data = response.json()\n",
    "data\n",
    "\n",
    "temp = data['current']\n",
    "\n",
    "print(\"Current temperature at Heathrow International Airport is\", temp['temperature_2m'], \"celscius.\")\n"
   ]
  },
  {
   "cell_type": "code",
   "execution_count": null,
   "id": "25c907ce-ccb2-40c6-bfdc-96df26c3ed57",
   "metadata": {},
   "outputs": [],
   "source": [
    "#What URL would I use to request a 3-day forecast at Heathrow?\n",
    "#https://api.open-meteo.com/v1/forecast?latitude=51.4729&longitude=-0.4506&current=temperature_2m,apparent_temperature&daily=temperature_2m_max,apparent_temperature_max&timezone=auto&forecast_days=3"
   ]
  },
  {
   "cell_type": "code",
   "execution_count": 35,
   "id": "8eaa64c7-99a8-457d-9cf0-422eee4133ef",
   "metadata": {},
   "outputs": [
    {
     "data": {
      "text/plain": [
       "{'latitude': 51.48,\n",
       " 'longitude': -0.46000004,\n",
       " 'generationtime_ms': 0.09298324584960938,\n",
       " 'utc_offset_seconds': 0,\n",
       " 'timezone': 'Europe/London',\n",
       " 'timezone_abbreviation': 'GMT',\n",
       " 'elevation': 35.0,\n",
       " 'current_units': {'time': 'iso8601',\n",
       "  'interval': 'seconds',\n",
       "  'temperature_2m': '°C',\n",
       "  'apparent_temperature': '°C'},\n",
       " 'current': {'time': '2024-11-09T22:15',\n",
       "  'interval': 900,\n",
       "  'temperature_2m': 7.3,\n",
       "  'apparent_temperature': 5.6},\n",
       " 'daily_units': {'time': 'iso8601',\n",
       "  'temperature_2m_max': '°C',\n",
       "  'apparent_temperature_max': '°C'},\n",
       " 'daily': {'time': ['2024-11-09', '2024-11-10', '2024-11-11'],\n",
       "  'temperature_2m_max': [8.4, 9.8, 10.8],\n",
       "  'apparent_temperature_max': [6.7, 8.8, 8.8]}}"
      ]
     },
     "execution_count": 35,
     "metadata": {},
     "output_type": "execute_result"
    }
   ],
   "source": [
    "#Print the date of each of the 3 days you're getting a forecast for.\n",
    "\n",
    "import requests\n",
    "\n",
    "response = requests.get(\"https://api.open-meteo.com/v1/forecast?latitude=51.4729&longitude=-0.4506&current=temperature_2m,apparent_temperature&daily=temperature_2m_max,apparent_temperature_max&timezone=auto&forecast_days=3\")\n",
    "data = response.json()\n",
    "data"
   ]
  },
  {
   "cell_type": "code",
   "execution_count": 38,
   "id": "8a1b18a9-10f9-4f80-bf31-5e673822011a",
   "metadata": {},
   "outputs": [
    {
     "name": "stdout",
     "output_type": "stream",
     "text": [
      "['2024-11-09', '2024-11-10', '2024-11-11']\n"
     ]
    }
   ],
   "source": [
    "days = data['daily']\n",
    "print(days['time'])"
   ]
  },
  {
   "cell_type": "code",
   "execution_count": 41,
   "id": "01894074-3b34-47f0-8527-d8299fd010fe",
   "metadata": {},
   "outputs": [
    {
     "name": "stdout",
     "output_type": "stream",
     "text": [
      "['2024-11-09', '2024-11-10', '2024-11-11'] [8.4, 9.8, 10.8]\n"
     ]
    }
   ],
   "source": [
    "#Print the maximum temperature of each of the days.\n",
    "days = data['daily']\n",
    "print(days['time'], days['temperature_2m_max'])\n"
   ]
  },
  {
   "cell_type": "code",
   "execution_count": 42,
   "id": "00cb0790-942d-4922-9d05-7596cceebfc3",
   "metadata": {},
   "outputs": [
    {
     "name": "stdout",
     "output_type": "stream",
     "text": [
      "10.8\n"
     ]
    }
   ],
   "source": [
    "#Print only the day with the highest maximum temperature.\n",
    "\n",
    "highesttemp = None\n",
    "for maxtemp in data['daily']['temperature_2m_max']:\n",
    "    if highesttemp is None or maxtemp > highesttemp:\n",
    "        highesttemp = maxtemp\n",
    "print(highesttemp)"
   ]
  },
  {
   "cell_type": "code",
   "execution_count": 43,
   "id": "ebcabf65-3295-4e35-9df9-ae1843bd56af",
   "metadata": {},
   "outputs": [],
   "source": [
    "#Did you find this easier or more difficult than using the weatherapi.com, and why? \n",
    "#Which would you recommend to someone interesting in building a tool around weather information?\n",
    "# I think weatherapi.com was more clear to get startwith. The search tool was good and gave all the basic information on clear format.\n",
    "# However, openmeteo had A LOT of options. It was not as easy to print things like a country location, but the amount of weather deatails was impressive.\n"
   ]
  },
  {
   "cell_type": "code",
   "execution_count": null,
   "id": "6821ab31-a0f9-453a-9102-946f8f2e897b",
   "metadata": {},
   "outputs": [],
   "source": []
  }
 ],
 "metadata": {
  "kernelspec": {
   "display_name": "Python 3 (ipykernel)",
   "language": "python",
   "name": "python3"
  },
  "language_info": {
   "codemirror_mode": {
    "name": "ipython",
    "version": 3
   },
   "file_extension": ".py",
   "mimetype": "text/x-python",
   "name": "python",
   "nbconvert_exporter": "python",
   "pygments_lexer": "ipython3",
   "version": "3.12.7"
  }
 },
 "nbformat": 4,
 "nbformat_minor": 5
}
